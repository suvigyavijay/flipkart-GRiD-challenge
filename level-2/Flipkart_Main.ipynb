{
 "cells": [
  {
   "cell_type": "markdown",
   "metadata": {
    "colab_type": "text",
    "id": "9CQXdlsGcarf"
   },
   "source": [
    "# Flipkart GRiD Challenge - Level 2\n",
    "Flipkart Object Localization Challenge consists of developing a model that localizes (identifies the bounding box) the object in an image. Simply put, given an image, the model should produce coordinates of the rectangle where in the object lies.\n",
    "\n",
    "## Requirements\n",
    "- Python 3.5\n",
    "- Tensorflow 1.12+\n",
    "- Keras 2.2.0+\n",
    "- CUDA (recommended version >= 8.0)\n",
    "- OpenCV\n",
    "- Python Image Library(PIL)\n",
    "- Numpy\n",
    "- Pandas\n",
    "- MatPlotLib\n",
    "\n",
    "\n",
    "\n"
   ]
  },
  {
   "cell_type": "markdown",
   "metadata": {
    "colab_type": "text",
    "id": "Q0jLpmWKAeDN"
   },
   "source": [
    "## Data Analysis and Visualizations\n",
    "\n",
    "Let's start by importing some libraries to help us explore data."
   ]
  },
  {
   "cell_type": "code",
   "execution_count": 1,
   "metadata": {
    "colab": {},
    "colab_type": "code",
    "id": "1bqB54dtAlZ_"
   },
   "outputs": [],
   "source": [
    "import numpy as np\n",
    "import pandas as pd\n",
    "import os\n",
    "import cv2\n",
    "import matplotlib.pyplot as plt\n",
    "from PIL import Image, ImageDraw, ImageEnhance\n",
    "\n",
    "plt.rcParams['figure.dpi'] = 150"
   ]
  },
  {
   "cell_type": "markdown",
   "metadata": {
    "colab_type": "text",
    "id": "QCu31sdbCW1p"
   },
   "source": [
    "So, we are provided with two CSV files, `training.csv` and `test.csv`. The training file contain image names and coordinates for the bounding boxes. And the test files contains image names for which prediction needs to be done.\n",
    "\n",
    "Let's start by loading training and testing data:"
   ]
  },
  {
   "cell_type": "code",
   "execution_count": 2,
   "metadata": {
    "colab": {
     "base_uri": "https://localhost:8080/",
     "height": 425
    },
    "colab_type": "code",
    "id": "W2DtCx0aCQR7",
    "outputId": "6bbd046f-08a8-4f9b-c751-0c74ae5afa30"
   },
   "outputs": [
    {
     "name": "stdout",
     "output_type": "stream",
     "text": [
      "Training Data Info: \n",
      "\n",
      "<class 'pandas.core.frame.DataFrame'>\n",
      "RangeIndex: 14000 entries, 0 to 13999\n",
      "Data columns (total 5 columns):\n",
      "image_name    14000 non-null object\n",
      "x1            14000 non-null int64\n",
      "x2            14000 non-null int64\n",
      "y1            14000 non-null int64\n",
      "y2            14000 non-null int64\n",
      "dtypes: int64(4), object(1)\n",
      "memory usage: 547.0+ KB\n",
      "None\n"
     ]
    },
    {
     "data": {
      "text/html": [
       "<div>\n",
       "<style scoped>\n",
       "    .dataframe tbody tr th:only-of-type {\n",
       "        vertical-align: middle;\n",
       "    }\n",
       "\n",
       "    .dataframe tbody tr th {\n",
       "        vertical-align: top;\n",
       "    }\n",
       "\n",
       "    .dataframe thead th {\n",
       "        text-align: right;\n",
       "    }\n",
       "</style>\n",
       "<table border=\"1\" class=\"dataframe\">\n",
       "  <thead>\n",
       "    <tr style=\"text-align: right;\">\n",
       "      <th></th>\n",
       "      <th>image_name</th>\n",
       "      <th>x1</th>\n",
       "      <th>x2</th>\n",
       "      <th>y1</th>\n",
       "      <th>y2</th>\n",
       "    </tr>\n",
       "  </thead>\n",
       "  <tbody>\n",
       "    <tr>\n",
       "      <th>0</th>\n",
       "      <td>JPEG_20160706_121146_1000145715002.png</td>\n",
       "      <td>115</td>\n",
       "      <td>495</td>\n",
       "      <td>143</td>\n",
       "      <td>325</td>\n",
       "    </tr>\n",
       "    <tr>\n",
       "      <th>1</th>\n",
       "      <td>JPEG_20161119_174038_1000690577600.png</td>\n",
       "      <td>23</td>\n",
       "      <td>457</td>\n",
       "      <td>61</td>\n",
       "      <td>409</td>\n",
       "    </tr>\n",
       "    <tr>\n",
       "      <th>2</th>\n",
       "      <td>147444927651111470309333776-Roadster-Men-Casua...</td>\n",
       "      <td>37</td>\n",
       "      <td>601</td>\n",
       "      <td>13</td>\n",
       "      <td>470</td>\n",
       "    </tr>\n",
       "    <tr>\n",
       "      <th>3</th>\n",
       "      <td>147772332675720161028_161611.png</td>\n",
       "      <td>27</td>\n",
       "      <td>602</td>\n",
       "      <td>162</td>\n",
       "      <td>385</td>\n",
       "    </tr>\n",
       "    <tr>\n",
       "      <th>4</th>\n",
       "      <td>1473315333651DeeplearnS11638.png</td>\n",
       "      <td>60</td>\n",
       "      <td>586</td>\n",
       "      <td>174</td>\n",
       "      <td>325</td>\n",
       "    </tr>\n",
       "  </tbody>\n",
       "</table>\n",
       "</div>"
      ],
      "text/plain": [
       "                                          image_name   x1   x2   y1   y2\n",
       "0             JPEG_20160706_121146_1000145715002.png  115  495  143  325\n",
       "1             JPEG_20161119_174038_1000690577600.png   23  457   61  409\n",
       "2  147444927651111470309333776-Roadster-Men-Casua...   37  601   13  470\n",
       "3                   147772332675720161028_161611.png   27  602  162  385\n",
       "4                   1473315333651DeeplearnS11638.png   60  586  174  325"
      ]
     },
     "execution_count": 2,
     "metadata": {},
     "output_type": "execute_result"
    }
   ],
   "source": [
    "trainingData = pd.read_csv('training.csv')\n",
    "print('Training Data Info: \\n')\n",
    "print(trainingData.info())\n",
    "trainingData.head()"
   ]
  },
  {
   "cell_type": "code",
   "execution_count": 3,
   "metadata": {
    "colab": {
     "base_uri": "https://localhost:8080/",
     "height": 425
    },
    "colab_type": "code",
    "id": "EqJuhy_IKv6Y",
    "outputId": "9dc38d90-3283-45c1-a1f4-0885c1c4b278"
   },
   "outputs": [
    {
     "name": "stdout",
     "output_type": "stream",
     "text": [
      "Testing Data Info: \n",
      "\n",
      "<class 'pandas.core.frame.DataFrame'>\n",
      "RangeIndex: 12815 entries, 0 to 12814\n",
      "Data columns (total 5 columns):\n",
      "image_name    12815 non-null object\n",
      "x1            0 non-null float64\n",
      "x2            0 non-null float64\n",
      "y1            0 non-null float64\n",
      "y2            0 non-null float64\n",
      "dtypes: float64(4), object(1)\n",
      "memory usage: 500.7+ KB\n",
      "None\n"
     ]
    },
    {
     "data": {
      "text/html": [
       "<div>\n",
       "<style scoped>\n",
       "    .dataframe tbody tr th:only-of-type {\n",
       "        vertical-align: middle;\n",
       "    }\n",
       "\n",
       "    .dataframe tbody tr th {\n",
       "        vertical-align: top;\n",
       "    }\n",
       "\n",
       "    .dataframe thead th {\n",
       "        text-align: right;\n",
       "    }\n",
       "</style>\n",
       "<table border=\"1\" class=\"dataframe\">\n",
       "  <thead>\n",
       "    <tr style=\"text-align: right;\">\n",
       "      <th></th>\n",
       "      <th>image_name</th>\n",
       "      <th>x1</th>\n",
       "      <th>x2</th>\n",
       "      <th>y1</th>\n",
       "      <th>y2</th>\n",
       "    </tr>\n",
       "  </thead>\n",
       "  <tbody>\n",
       "    <tr>\n",
       "      <th>0</th>\n",
       "      <td>1474723840903DSC08089.png</td>\n",
       "      <td>NaN</td>\n",
       "      <td>NaN</td>\n",
       "      <td>NaN</td>\n",
       "      <td>NaN</td>\n",
       "    </tr>\n",
       "    <tr>\n",
       "      <th>1</th>\n",
       "      <td>1473231475010DeeplearnS11276.png</td>\n",
       "      <td>NaN</td>\n",
       "      <td>NaN</td>\n",
       "      <td>NaN</td>\n",
       "      <td>NaN</td>\n",
       "    </tr>\n",
       "    <tr>\n",
       "      <th>2</th>\n",
       "      <td>JPEG_20161205_135307_1000155917326.png</td>\n",
       "      <td>NaN</td>\n",
       "      <td>NaN</td>\n",
       "      <td>NaN</td>\n",
       "      <td>NaN</td>\n",
       "    </tr>\n",
       "    <tr>\n",
       "      <th>3</th>\n",
       "      <td>JPEG_20160711_123440_1000518778437.png</td>\n",
       "      <td>NaN</td>\n",
       "      <td>NaN</td>\n",
       "      <td>NaN</td>\n",
       "      <td>NaN</td>\n",
       "    </tr>\n",
       "    <tr>\n",
       "      <th>4</th>\n",
       "      <td>JPEG_20160803_115329_100034020722.png</td>\n",
       "      <td>NaN</td>\n",
       "      <td>NaN</td>\n",
       "      <td>NaN</td>\n",
       "      <td>NaN</td>\n",
       "    </tr>\n",
       "  </tbody>\n",
       "</table>\n",
       "</div>"
      ],
      "text/plain": [
       "                               image_name  x1  x2  y1  y2\n",
       "0               1474723840903DSC08089.png NaN NaN NaN NaN\n",
       "1        1473231475010DeeplearnS11276.png NaN NaN NaN NaN\n",
       "2  JPEG_20161205_135307_1000155917326.png NaN NaN NaN NaN\n",
       "3  JPEG_20160711_123440_1000518778437.png NaN NaN NaN NaN\n",
       "4   JPEG_20160803_115329_100034020722.png NaN NaN NaN NaN"
      ]
     },
     "execution_count": 3,
     "metadata": {},
     "output_type": "execute_result"
    }
   ],
   "source": [
    "testingData = pd.read_csv('test.csv')\n",
    "print('Testing Data Info: \\n')\n",
    "print(testingData.info())\n",
    "testingData.head()"
   ]
  },
  {
   "cell_type": "markdown",
   "metadata": {
    "colab_type": "text",
    "id": "B-8vPF7PD5Zr"
   },
   "source": [
    "Let's also visualize the image and the bounding box by OpenCV. The images are in the directory `images`."
   ]
  },
  {
   "cell_type": "code",
   "execution_count": 4,
   "metadata": {
    "colab": {
     "base_uri": "https://localhost:8080/",
     "height": 318
    },
    "colab_type": "code",
    "id": "XtPMy276DC-E",
    "outputId": "8b73a98c-1b1b-4c7f-fc88-87779abd5223"
   },
   "outputs": [
    {
     "data": {
      "image/png": "[encoded data removed]",
      "text/plain": [
       "<Figure size 432x288 with 3 Axes>"
      ]
     },
     "metadata": {},
     "output_type": "display_data"
    }
   ],
   "source": [
    "DATA_DIR = 'images/' #set location of the images folder\n",
    "\n",
    "for i in range(3):\n",
    "    tr_row = trainingData.loc[i]\n",
    "    img = cv2.imread(DATA_DIR + tr_row['image_name'])\n",
    "    img = cv2.cvtColor(img, cv2.COLOR_BGR2RGB)\n",
    "    cv2.rectangle(img, (tr_row['x1'], tr_row['y1']), (tr_row['x2'], tr_row['y2']), (0,0,255), 5)\n",
    "    plt.subplot(1, 3, i+1)\n",
    "    plt.axis('off')\n",
    "    plt.imshow(img)\n",
    "plt.subplots_adjust(wspace=0.01, hspace=0)\n",
    "plt.show()"
   ]
  },
  {
   "cell_type": "markdown",
   "metadata": {
    "colab_type": "text",
    "id": "5CW2ollKI8Yv"
   },
   "source": [
    "We observe that the data contains images with a single object that we need to localize. The images are representative of Flipkart product offerings from multiple sellers. "
   ]
  },
  {
   "cell_type": "markdown",
   "metadata": {
    "colab_type": "text",
    "id": "nLI6CIdRSr-v"
   },
   "source": [
    "## Evaluation Criteria\n",
    "\n",
    "The challenge was being evaluated on the metric Mean Intersection over Union(IoU). It is basically, the intersection divided by the union of the true bounding box and the predicted bounding box from the model.\n",
    "\n",
    "Thus we need to validate our data before evaluation on the actual test set, so let's go ahead and split our data into two sets, one for training and one for validation."
   ]
  },
  {
   "cell_type": "code",
   "execution_count": 5,
   "metadata": {
    "colab": {},
    "colab_type": "code",
    "id": "ldIq2WYDi0PB"
   },
   "outputs": [],
   "source": [
    "from sklearn.model_selection import train_test_split\n",
    "\n",
    "train, test = train_test_split(trainingData, test_size=0.05, random_state=321)\n",
    "\n",
    "train.reset_index(inplace=True, drop=True)\n",
    "test.reset_index(inplace=True, drop=True)\n",
    "\n",
    "train.to_csv('train.csv', index=False)\n",
    "test.to_csv('validation.csv', index=False)\n",
    "\n",
    "TRAIN_CSV = \"train.csv\"\n",
    "VALIDATION_CSV = \"validation.csv\""
   ]
  },
  {
   "cell_type": "markdown",
   "metadata": {
    "colab_type": "text",
    "id": "HXDyT2YLoXM2"
   },
   "source": [
    "Also let's define a function to calculate the IoU from the prediction so that we can monitor it while training."
   ]
  },
  {
   "cell_type": "code",
   "execution_count": 6,
   "metadata": {
    "colab": {},
    "colab_type": "code",
    "id": "JhVbeIlTojCm"
   },
   "outputs": [],
   "source": [
    "def IOU(y_true, y_pred):\n",
    "    diff_width = K.minimum(y_true[:,0] + y_true[:,2], y_pred[:,0] + y_pred[:,2]) - K.maximum(y_true[:,0], y_pred[:,0])\n",
    "    diff_height = K.minimum(y_true[:,1] + y_true[:,3], y_pred[:,1] + y_pred[:,3]) - K.maximum(y_true[:,1], y_pred[:,1])\n",
    "    intersection = K.maximum(diff_width, 0) * K.maximum(diff_height, 0)\n",
    "\n",
    "    area_gt = y_true[:,2] * y_true[:,3]\n",
    "    area_pred = y_pred[:,2] * y_pred[:,3]\n",
    "    union = K.maximum(area_gt + area_pred - intersection, 0)\n",
    "\n",
    "    #ntersection = K.sum(intersection * (union > 0))\n",
    "    intersection = K.tf.where(union > 0, intersection, K.zeros_like(intersection))\n",
    "    intersection = K.sum(intersection)\n",
    "    union = K.sum(union)\n",
    "    iou = (intersection / (union + epsilon()))\n",
    "    return iou"
   ]
  },
  {
   "cell_type": "markdown",
   "metadata": {
    "colab_type": "text",
    "id": "diyw7NVDLpy4"
   },
   "source": [
    "# Our Approach\n",
    "\n",
    "Since, we were required to localize the objects, we tried multiple model and techniques for object detection and finally ensembled the predictions from each model to improve them. We only mention the best approaches which finally were used in ensemble. You can refer at the end, the results and inferences from other models.\n",
    "\n",
    "Since we have used tensorflow and keras for the challenge, let's import all necessary modules at the very start and declare some global variables."
   ]
  },
  {
   "cell_type": "code",
   "execution_count": 7,
   "metadata": {
    "colab": {
     "base_uri": "https://localhost:8080/",
     "height": 34
    },
    "colab_type": "code",
    "id": "B7S3Kotpjvlc",
    "outputId": "885cba0e-2b1d-49d4-86ea-751376d0fd37"
   },
   "outputs": [
    {
     "name": "stderr",
     "output_type": "stream",
     "text": [
      "Using TensorFlow backend.\n"
     ]
    }
   ],
   "source": [
    "import math\n",
    "from keras import Model\n",
    "from keras.callbacks import ModelCheckpoint, EarlyStopping, ReduceLROnPlateau, Callback\n",
    "from keras.layers import *\n",
    "from keras.utils import Sequence\n",
    "from keras.backend import epsilon\n",
    "import keras.backend as K\n",
    "from keras.optimizers import Adam\n",
    "from keras.regularizers import l2\n",
    "\n",
    "ALPHA = 0.75\n",
    "\n",
    "IMAGE_SIZE = 224\n",
    "\n",
    "EPOCHS = 500\n",
    "BATCH_SIZE = 32\n",
    "PATIENCE = 50\n",
    "\n",
    "MULTI_PROCESSING = True\n",
    "THREADS = 20"
   ]
  },
  {
   "cell_type": "markdown",
   "metadata": {
    "colab_type": "text",
    "id": "xAJQsahaATBG"
   },
   "source": [
    "\n",
    "## 1. Imagenet Architectures \n",
    "\n",
    "Since the task just involved localization and not classification of objects in the images, a CNN model with regression output would do. We chose imagenet architectures and modified the top layer to give us the regression output.\n",
    "\n",
    "We tested on multiple architechures and looked at their overall depth, and found out that MobileNetV2(low depth) and InceptionResnetV2(high depth) performed the best amongst comparble depth models. We further added DenseNet121(low depth) to improve the ensemble predictions.\n",
    "\n",
    "###  Image Preprocessing\n",
    "\n",
    "Imagenet architechures generally intake square images of fixed shape, thus the current images need to be preprocessed before feeding them to the model. Keras applications containing the pre-built model such MobileNet contains a function `preprocess_input` that preprocesses the images according to requirements. Thus preprocessing is handled by the function itself.\n",
    "\n",
    "### Data Augmentation\n",
    "\n",
    "Since, we notice above that the training data contains 14,000 entries and predictions needs to be done on 12,815 entries thus we can say that the training and testing data are almost comparable in size, which might lead to bad model preformance. Thus data augmentation is necessary in our case, so that the model can generalize well.\n",
    "\n",
    "We did mulitple transforms to the original data, as listed below:\n",
    "- Rescaling\n",
    "- Rotation and Flipping\n",
    "- Croping\n",
    "- Color and Other Image Enhancements\n",
    "\n",
    "Also that the dataset being huge, it can't be loaded directly into the memory, so we plan to use the `fit_generator` method in keras to load images on the go from a data generator.\n",
    "\n",
    "Since we are using data generator, we implemented augmentation within the generator, as done below.\n",
    "\n"
   ]
  },
  {
   "cell_type": "code",
   "execution_count": 8,
   "metadata": {
    "colab": {},
    "colab_type": "code",
    "id": "DPaGvbB5jTwJ"
   },
   "outputs": [],
   "source": [
    "class DataGenerator(Sequence):\n",
    "\n",
    "    def __init__(self, csv_file,rnd_rescale=True, rnd_multiply=True, rnd_color=True, rnd_crop=True, rnd_flip=True,\n",
    "                 batch_size = BATCH_SIZE, rnd_dice=True):\n",
    "        self.paths = []\n",
    "        self.coords = []\n",
    "        self.batch_size = batch_size\n",
    "        self.rnd_rescale = rnd_rescale\n",
    "        self.rnd_multiply = rnd_multiply\n",
    "        self.rnd_color = rnd_color\n",
    "        self.rnd_crop = rnd_crop\n",
    "        self.rnd_flip = rnd_flip\n",
    "        self.rnd_dice = rnd_dice\n",
    "\n",
    "        with open(csv_file, \"r\") as file:\n",
    "            self.coords = np.zeros((sum(1 for line in file)-1, 4))\n",
    "            \n",
    "        df = pd.read_csv(csv_file)\n",
    "\n",
    "        for index, row in df.iterrows():\n",
    "            path = os.path.join(DATA_DIR, row['image_name'])\n",
    "            x1 = row['x1']\n",
    "            x2 = row['x2']\n",
    "            y1 = row['y1']\n",
    "            y2 = row['y2']\n",
    "\n",
    "            img = Image.open(path)\n",
    "            width, height = img.size\n",
    "\n",
    "            self.coords[index, 0] = x1\n",
    "            self.coords[index, 1] = y1\n",
    "            self.coords[index, 2] = x2 \n",
    "            self.coords[index, 3] = y2 \n",
    "\n",
    "            self.paths.append(path)\n",
    "        \n",
    "    def __len__(self):\n",
    "        return math.ceil(len(self.coords)*2 / self.batch_size)\n",
    "      \n",
    "    def random_rescale(self, img, coords, low = 0.6, high = 1.4):\n",
    "      img_width = img.width\n",
    "      img_height = img.height\n",
    "      scale_ratio = np.random.uniform(low = low, high = high)\n",
    "      new_width, new_height = int(img_width*scale_ratio), int(img_height*scale_ratio)\n",
    "      img = img.resize((new_width, new_height))\n",
    "      x0, y0, x1, y1 = coords\n",
    "      x0 = x0*new_width/img_width\n",
    "      y0 = y0*new_height/img_height\n",
    "      x1 = x1*new_width/img_width\n",
    "      y1 = y1*new_height/img_height\n",
    "      \n",
    "      return img, x0, y0, x1, y1\n",
    "    \n",
    "    def random_crop(self, img, coords, crop_ratio = 0.15):\n",
    "      img_width, img_height = img.width, img.height\n",
    "      new_x0 = np.random.randint(low = 0, high = int(crop_ratio*img_width))\n",
    "      new_y0 = np.random.randint(low = 0, high = int(crop_ratio*img_height))\n",
    "      \n",
    "      new_x1 = img_width - np.random.randint(low = 0, high = int(crop_ratio*img_width))\n",
    "      new_y1 = img_height - np.random.randint(low = 0, high = int(crop_ratio*img_height))\n",
    "      \n",
    "      img = img.crop((new_x0, new_y0, new_x1, new_y1))\n",
    "      \n",
    "      x0, y0, x1, y1 = coords\n",
    "      x0 = max(x0 - new_x0, 0)\n",
    "      y0 = max(y0 - new_y0, 0)\n",
    "      x1 = min(x1 - new_x0, img_width)\n",
    "      y1 = min(y1 - new_y0, img_height)\n",
    "      return img, x0, y0, x1, y1\n",
    "    \n",
    "    def random_flip(self, img, coords):\n",
    "      img_width, img_height = img.width, img.height\n",
    "      x0, y0, x1, y1 = coords\n",
    "      '''\n",
    "      Flip types: [0, 90, 180, 270, 1423, 1234]\n",
    "      0: 0 degree rotation (no change in original image)\n",
    "      90: 90 degree rotation \n",
    "      180: 180 degree rotation\n",
    "      270: 270 degree rotation\n",
    "      1423: Top bottom flip (mirror image over a horizontal line passing through the center)\n",
    "      1234: Left right flip (mirrot image over a vertical line passing though the center)\n",
    "      '''\n",
    "      \n",
    "      #Choosing what type of flip to perform randomly\n",
    "      flip_type = np.random.choice([0, 90, 180, 270, 1423, 1234])\n",
    "      if flip_type in [0, 90, 180, 270]:\n",
    "        \n",
    "        x = x0 - img_width / 2\n",
    "        y = y0 - img_height / 2\n",
    "\n",
    "        x0 = img_width / 2 + x * np.cos(np.deg2rad(flip_type)) - y * np.sin(np.deg2rad(flip_type))\n",
    "        y0 = img_height / 2 + x * np.sin(np.deg2rad(flip_type)) + y * np.cos(np.deg2rad(flip_type))\n",
    "\n",
    "        x = x1 - img_width / 2\n",
    "        y = y1 - img_height / 2\n",
    "\n",
    "        x1 = img_width / 2 + x * np.cos(np.deg2rad(flip_type)) - y * np.sin(np.deg2rad(flip_type))\n",
    "        y1 = img_height / 2 + x * np.sin(np.deg2rad(flip_type)) + y * np.cos(np.deg2rad(flip_type))\n",
    "        \n",
    "      else:\n",
    "        \n",
    "        if flip_type == 1423:\n",
    "            img = img.transpose(Image.FLIP_TOP_BOTTOM)\n",
    "            y0 = img_height - y0\n",
    "            y1 = img_height - y1\n",
    "\n",
    "        elif flip_type == 1234:\n",
    "            img = img.transpose(Image.FLIP_LEFT_RIGHT)\n",
    "            x0 = img_width - x0\n",
    "            x1 = img_width - x1\n",
    "              \n",
    "      return img, x0, y0, x1, y1\n",
    "    \n",
    "    \n",
    "    def random_color(self, img):\n",
    "      color_enhancer = ImageEnhance.Color(img)\n",
    "      img = color_enhancer.enhance(np.random.uniform(low=0.5, high=1.5))\n",
    "\n",
    "      brightness_enhancer = ImageEnhance.Brightness(img)\n",
    "      img = brightness_enhancer.enhance(np.random.uniform(low=0.7, high=1.3))\n",
    "      return img\n",
    "    \n",
    "    def random_multiply(self, img, low = 0.8, high = 1.2):\n",
    "      img[...,0] = np.floor(np.clip(img[...,0] * np.random.uniform(low=low, high=high), 0.0, 255.0))\n",
    "      img[...,1] = np.floor(np.clip(img[...,1] * np.random.uniform(low=low, high=high), 0.0, 255.0))\n",
    "      img[...,2] = np.floor(np.clip(img[...,2] * np.random.uniform(low=low, high=high), 0.0, 255.0))     \n",
    "      return img\n",
    "    \n",
    "        \n",
    "\n",
    "    def __getitem__(self, idx):\n",
    "        batch_paths = self.paths[idx * self.batch_size//2:(idx + 1) * self.batch_size//2]\n",
    "        coords = self.coords[idx * self.batch_size//2:(idx + 1) * self.batch_size//2].copy()\n",
    "        batch_coords = np.zeros((self.batch_size,4))\n",
    "        batch_images = np.zeros((self.batch_size, IMAGE_SIZE, IMAGE_SIZE, 3), dtype=np.float32)\n",
    "        i = 0\n",
    "        for j, f in enumerate(batch_paths):\n",
    "            img = Image.open(f)\n",
    "            x0,y0,x1,y1 = coords[j]\n",
    "            image_width = img.width\n",
    "            image_height = img.height\n",
    "            img2 = img.resize((IMAGE_SIZE, IMAGE_SIZE))\n",
    "            img2 = img2.convert('RGB')\n",
    "            img2 = np.array(img2, dtype=np.float32)\n",
    "            batch_images[i] = preprocess_input(img2.copy())\n",
    "            \n",
    "            batch_coords[i, 0] = x0 * IMAGE_SIZE / image_width\n",
    "            batch_coords[i, 1] = y0 * IMAGE_SIZE / image_height\n",
    "            batch_coords[i, 2] = (x1 - x0) * IMAGE_SIZE / image_width\n",
    "            batch_coords[i, 3] = (y1 - y0) * IMAGE_SIZE / image_height \n",
    "            \n",
    "            if self.rnd_dice:\n",
    "                \n",
    "                select = np.random.randint(5)\n",
    "                \n",
    "                if select==0 and self.rnd_rescale:\n",
    "                    img, x0, y0, x1, y1 = self.random_rescale(img, [x0, y0, x1, y1])\n",
    "                    \n",
    "\n",
    "                if select==1 and self.rnd_crop:\n",
    "           \n",
    "                    img, x0, y0, x1, y1 = self.random_crop(img, [x0, y0, x1, y1])\n",
    "                    \n",
    "                if select==2 and self.rnd_flip:\n",
    "                    img, x0, y0, x1, y1 = self.random_flip(img, [x0, y0, x1, y1])\n",
    "\n",
    "                image_width, image_height = img.width, img.height\n",
    "\n",
    "                tmp = x0\n",
    "                x0 = min(x0, x1)\n",
    "                x1 = max(tmp, x1)\n",
    "\n",
    "                tmp = y0\n",
    "                y0 = min(y0, y1)\n",
    "                y1 = max(tmp, y1)\n",
    "\n",
    "                x0 = max(x0, 0)\n",
    "                y0 = max(y0, 0)\n",
    "\n",
    "                y0 = min(y0, image_height)\n",
    "                x0 = min(x0, image_width)\n",
    "                y1 = min(y1, image_height)\n",
    "                x1 = min(x1, image_width)\n",
    "\n",
    "                if select==3 and self.rnd_color:\n",
    "                    \n",
    "                    img = self.random_color(img)\n",
    "\n",
    "                img = img.resize((IMAGE_SIZE, IMAGE_SIZE))\n",
    "                img = img.convert('RGB')\n",
    "                pil_img = img\n",
    "                img = np.array(img, dtype=np.float32)\n",
    "                pil_img.close()\n",
    "                \n",
    "                if select==4 and self.rnd_multiply:\n",
    "\n",
    "                    img = self.random_multiply(img)\n",
    "                    \n",
    "                batch_images[i+1] = preprocess_input(img.copy())\n",
    "\n",
    "                batch_coords[i+1, 0] = x0 * IMAGE_SIZE / image_width\n",
    "                batch_coords[i+1, 1] = y0 * IMAGE_SIZE / image_height\n",
    "                batch_coords[i+1, 2] = (x1 - x0) * IMAGE_SIZE / image_width\n",
    "                batch_coords[i+1, 3] = (y1 - y0) * IMAGE_SIZE / image_height \n",
    "                \n",
    "            i+=2\n",
    "            \n",
    "        return batch_images, batch_coords\n"
   ]
  },
  {
   "cell_type": "markdown",
   "metadata": {
    "colab_type": "text",
    "id": "G8ASAG6asrNL"
   },
   "source": [
    "### Loading Validation Data into the Memory"
   ]
  },
  {
   "cell_type": "markdown",
   "metadata": {
    "colab_type": "text",
    "id": "kNsSCUissyZe"
   },
   "source": [
    "Unlike training data validation can still be performed via loading data into memory, and will help improve training time. Also, as we are not doing any augmentation in the validation data we can save some time by defining another data generator just for validation purpose."
   ]
  },
  {
   "cell_type": "code",
   "execution_count": 9,
   "metadata": {
    "colab": {},
    "colab_type": "code",
    "id": "3Pl-DtaDtXfi"
   },
   "outputs": [],
   "source": [
    "from keras.applications.imagenet_utils import preprocess_input\n",
    "\n",
    "valData = pd.read_csv('validation.csv')\n",
    "\n",
    "val_coords = np.zeros((len(valData),4))\n",
    "val_images = np.zeros((len(valData), IMAGE_SIZE, IMAGE_SIZE, 3), dtype=np.float32)\n",
    "\n",
    "for index, row in valData.iterrows():\n",
    "    path = os.path.join(DATA_DIR, row['image_name'])\n",
    "    x1 = row['x1']\n",
    "    x2 = row['x2']\n",
    "    y1 = row['y1']\n",
    "    y2 = row['y2']\n",
    "\n",
    "    img = Image.open(path)\n",
    "    width, height = img.size\n",
    "\n",
    "    val_coords[index, 0] = x1*IMAGE_SIZE / width\n",
    "    val_coords[index, 1] = y1*IMAGE_SIZE / height\n",
    "    val_coords[index, 2] = (x2 - x1)* IMAGE_SIZE / width\n",
    "    val_coords[index, 3] = (y2 - y1)*IMAGE_SIZE / height \n",
    "    \n",
    "    img = img.resize((IMAGE_SIZE, IMAGE_SIZE))\n",
    "    img = img.convert('RGB')\n",
    "    pil_img = img\n",
    "    img = np.array(img, dtype=np.float32)\n",
    "    val_images[index] = preprocess_input(img.copy())\n",
    "    pil_img.close()\n",
    "\n",
    "class ValDataGenerator(Sequence):\n",
    "    def __init__(self, val_images, val_coords, batch_size = BATCH_SIZE):\n",
    "        self.images = val_images\n",
    "        self.coords = val_coords\n",
    "        self.batch_size = batch_size\n",
    "        \n",
    "    def __len__(self):\n",
    "        return math.ceil(len(self.coords) / self.batch_size)\n",
    "    \n",
    "    def __getitem__(self, idx):\n",
    "        batch_coords = self.coords[idx * self.batch_size:(idx + 1) * self.batch_size].copy()\n",
    "        batch_images = self.images[idx * self.batch_size:(idx + 1) * self.batch_size]\n",
    "        return batch_images, batch_coords"
   ]
  },
  {
   "cell_type": "markdown",
   "metadata": {
    "colab_type": "text",
    "id": "baAtEA1ofo_7"
   },
   "source": [
    "\n",
    "### 1.1 MobileNetV2"
   ]
  },
  {
   "cell_type": "markdown",
   "metadata": {
    "colab_type": "text",
    "id": "rzNaKceXvk8v"
   },
   "source": [
    "Please see the notebook, `Flipkart_MobileNetV2.ipynb` for this model."
   ]
  },
  {
   "cell_type": "markdown",
   "metadata": {
    "colab_type": "text",
    "id": "txzcdiNqXWKd"
   },
   "source": [
    "### 1.2 InceptionResnetV2\n",
    "\n",
    "Please see the notebook, `Flipkart_InceptionResnetV2.ipynb` for this model."
   ]
  },
  {
   "cell_type": "markdown",
   "metadata": {
    "colab_type": "text",
    "id": "baAtEA1ofo_7"
   },
   "source": [
    "\n",
    "### 1.1 DenseNet121"
   ]
  },
  {
   "cell_type": "markdown",
   "metadata": {
    "colab_type": "text",
    "id": "rzNaKceXvk8v"
   },
   "source": [
    "Please see the notebook, `Flipkart_DenseNet121.ipynb` for this model."
   ]
  },
  {
   "cell_type": "markdown",
   "metadata": {
    "colab_type": "text",
    "id": "KLKXpFlJxf8t"
   },
   "source": [
    "## 2. U-Net based Approach\n",
    "\n",
    "Please see the notebook, `Flipkart_UNet.ipynb` for this model."
   ]
  },
  {
   "cell_type": "markdown",
   "metadata": {
    "colab_type": "text",
    "id": "7SlXrPx_5ZU4"
   },
   "source": [
    "## Ensemble Model\n",
    "\n",
    "Since we created three models, the best bounding box prediction can be obtained from creating an ensemble. Rather than creating one big ensemble model and training, we used the predictions from each model to again train a sparse network to get the ensembled prediction, mainly because we were limited in memory.\n",
    "\n",
    "So let's start by loading the predicted and true data for both training and test sets."
   ]
  },
  {
   "cell_type": "code",
   "execution_count": 20,
   "metadata": {
    "colab": {},
    "colab_type": "code",
    "id": "JuRNokPK5xJ7"
   },
   "outputs": [],
   "source": [
    "mnv2_train = pd.read_csv('mnv2-training.csv')\n",
    "irv2_train = pd.read_csv('irv2-training.csv')\n",
    "unet_train = pd.read_csv('unet-training.csv')\n",
    "dn121_train = pd.read_csv('dn121-training.csv')\n",
    "\n",
    "mnv2_prediction = pd.read_csv('mnv2-prediction.csv')\n",
    "irv2_prediction = pd.read_csv('irv2-prediction.csv')\n",
    "unet_prediction = pd.read_csv('unet-prediction.csv')\n",
    "dn121_prediction = pd.read_csv('dn121-prediction.csv')\n",
    "\n",
    "true_train = pd.read_csv('training.csv')"
   ]
  },
  {
   "cell_type": "markdown",
   "metadata": {
    "colab_type": "text",
    "id": "qsvXAAm8k4V5"
   },
   "source": [
    "Now let's combine the train and test dataframes to get a final ensemble dataframe to train on."
   ]
  },
  {
   "cell_type": "code",
   "execution_count": 21,
   "metadata": {
    "colab": {},
    "colab_type": "code",
    "id": "sPzfBltilLg4"
   },
   "outputs": [
    {
     "data": {
      "text/html": [
       "<div>\n",
       "<style scoped>\n",
       "    .dataframe tbody tr th:only-of-type {\n",
       "        vertical-align: middle;\n",
       "    }\n",
       "\n",
       "    .dataframe tbody tr th {\n",
       "        vertical-align: top;\n",
       "    }\n",
       "\n",
       "    .dataframe thead th {\n",
       "        text-align: right;\n",
       "    }\n",
       "</style>\n",
       "<table border=\"1\" class=\"dataframe\">\n",
       "  <thead>\n",
       "    <tr style=\"text-align: right;\">\n",
       "      <th></th>\n",
       "      <th>image_name</th>\n",
       "      <th>x1</th>\n",
       "      <th>x2</th>\n",
       "      <th>y1</th>\n",
       "      <th>y2</th>\n",
       "      <th>x1</th>\n",
       "      <th>x2</th>\n",
       "      <th>y1</th>\n",
       "      <th>y2</th>\n",
       "      <th>x1</th>\n",
       "      <th>...</th>\n",
       "      <th>y1</th>\n",
       "      <th>y2</th>\n",
       "      <th>x1</th>\n",
       "      <th>x2</th>\n",
       "      <th>y1</th>\n",
       "      <th>y2</th>\n",
       "      <th>x1</th>\n",
       "      <th>x2</th>\n",
       "      <th>y1</th>\n",
       "      <th>y2</th>\n",
       "    </tr>\n",
       "  </thead>\n",
       "  <tbody>\n",
       "    <tr>\n",
       "      <th>0</th>\n",
       "      <td>JPEG_20160706_121146_1000145715002.png</td>\n",
       "      <td>116.488691</td>\n",
       "      <td>479.667097</td>\n",
       "      <td>137.030443</td>\n",
       "      <td>320.486494</td>\n",
       "      <td>112.623140</td>\n",
       "      <td>486.479639</td>\n",
       "      <td>143.944880</td>\n",
       "      <td>322.386879</td>\n",
       "      <td>108.527723</td>\n",
       "      <td>...</td>\n",
       "      <td>141.750330</td>\n",
       "      <td>328.987296</td>\n",
       "      <td>212.0</td>\n",
       "      <td>442.0</td>\n",
       "      <td>185.0</td>\n",
       "      <td>262.0</td>\n",
       "      <td>115.0</td>\n",
       "      <td>495.0</td>\n",
       "      <td>143.0</td>\n",
       "      <td>325.0</td>\n",
       "    </tr>\n",
       "    <tr>\n",
       "      <th>1</th>\n",
       "      <td>JPEG_20161119_174038_1000690577600.png</td>\n",
       "      <td>19.543638</td>\n",
       "      <td>456.589791</td>\n",
       "      <td>50.167588</td>\n",
       "      <td>411.500244</td>\n",
       "      <td>18.872901</td>\n",
       "      <td>458.645812</td>\n",
       "      <td>56.914948</td>\n",
       "      <td>409.820708</td>\n",
       "      <td>24.628683</td>\n",
       "      <td>...</td>\n",
       "      <td>60.318763</td>\n",
       "      <td>410.970415</td>\n",
       "      <td>97.0</td>\n",
       "      <td>439.0</td>\n",
       "      <td>90.0</td>\n",
       "      <td>381.0</td>\n",
       "      <td>23.0</td>\n",
       "      <td>457.0</td>\n",
       "      <td>61.0</td>\n",
       "      <td>409.0</td>\n",
       "    </tr>\n",
       "    <tr>\n",
       "      <th>2</th>\n",
       "      <td>147444927651111470309333776-Roadster-Men-Casua...</td>\n",
       "      <td>44.351245</td>\n",
       "      <td>581.978542</td>\n",
       "      <td>14.793642</td>\n",
       "      <td>467.495335</td>\n",
       "      <td>33.014124</td>\n",
       "      <td>584.838328</td>\n",
       "      <td>14.506661</td>\n",
       "      <td>474.367210</td>\n",
       "      <td>32.016806</td>\n",
       "      <td>...</td>\n",
       "      <td>14.669755</td>\n",
       "      <td>458.516137</td>\n",
       "      <td>81.0</td>\n",
       "      <td>581.0</td>\n",
       "      <td>17.0</td>\n",
       "      <td>446.0</td>\n",
       "      <td>37.0</td>\n",
       "      <td>601.0</td>\n",
       "      <td>13.0</td>\n",
       "      <td>470.0</td>\n",
       "    </tr>\n",
       "    <tr>\n",
       "      <th>3</th>\n",
       "      <td>147772332675720161028_161611.png</td>\n",
       "      <td>23.505922</td>\n",
       "      <td>600.007368</td>\n",
       "      <td>162.537231</td>\n",
       "      <td>384.263567</td>\n",
       "      <td>26.088606</td>\n",
       "      <td>599.741129</td>\n",
       "      <td>160.039642</td>\n",
       "      <td>376.533922</td>\n",
       "      <td>25.999780</td>\n",
       "      <td>...</td>\n",
       "      <td>162.159789</td>\n",
       "      <td>382.638441</td>\n",
       "      <td>30.0</td>\n",
       "      <td>603.0</td>\n",
       "      <td>175.0</td>\n",
       "      <td>377.0</td>\n",
       "      <td>27.0</td>\n",
       "      <td>602.0</td>\n",
       "      <td>162.0</td>\n",
       "      <td>385.0</td>\n",
       "    </tr>\n",
       "    <tr>\n",
       "      <th>4</th>\n",
       "      <td>1473315333651DeeplearnS11638.png</td>\n",
       "      <td>60.573774</td>\n",
       "      <td>589.376787</td>\n",
       "      <td>170.065073</td>\n",
       "      <td>327.469679</td>\n",
       "      <td>63.644652</td>\n",
       "      <td>586.397040</td>\n",
       "      <td>172.365763</td>\n",
       "      <td>329.395225</td>\n",
       "      <td>63.780997</td>\n",
       "      <td>...</td>\n",
       "      <td>174.768857</td>\n",
       "      <td>328.233686</td>\n",
       "      <td>64.0</td>\n",
       "      <td>583.0</td>\n",
       "      <td>186.0</td>\n",
       "      <td>325.0</td>\n",
       "      <td>60.0</td>\n",
       "      <td>586.0</td>\n",
       "      <td>174.0</td>\n",
       "      <td>325.0</td>\n",
       "    </tr>\n",
       "  </tbody>\n",
       "</table>\n",
       "<p>5 rows × 21 columns</p>\n",
       "</div>"
      ],
      "text/plain": [
       "                                          image_name          x1          x2  \\\n",
       "0             JPEG_20160706_121146_1000145715002.png  116.488691  479.667097   \n",
       "1             JPEG_20161119_174038_1000690577600.png   19.543638  456.589791   \n",
       "2  147444927651111470309333776-Roadster-Men-Casua...   44.351245  581.978542   \n",
       "3                   147772332675720161028_161611.png   23.505922  600.007368   \n",
       "4                   1473315333651DeeplearnS11638.png   60.573774  589.376787   \n",
       "\n",
       "           y1          y2          x1          x2          y1          y2  \\\n",
       "0  137.030443  320.486494  112.623140  486.479639  143.944880  322.386879   \n",
       "1   50.167588  411.500244   18.872901  458.645812   56.914948  409.820708   \n",
       "2   14.793642  467.495335   33.014124  584.838328   14.506661  474.367210   \n",
       "3  162.537231  384.263567   26.088606  599.741129  160.039642  376.533922   \n",
       "4  170.065073  327.469679   63.644652  586.397040  172.365763  329.395225   \n",
       "\n",
       "           x1  ...            y1          y2     x1     x2     y1     y2  \\\n",
       "0  108.527723  ...    141.750330  328.987296  212.0  442.0  185.0  262.0   \n",
       "1   24.628683  ...     60.318763  410.970415   97.0  439.0   90.0  381.0   \n",
       "2   32.016806  ...     14.669755  458.516137   81.0  581.0   17.0  446.0   \n",
       "3   25.999780  ...    162.159789  382.638441   30.0  603.0  175.0  377.0   \n",
       "4   63.780997  ...    174.768857  328.233686   64.0  583.0  186.0  325.0   \n",
       "\n",
       "      x1     x2     y1     y2  \n",
       "0  115.0  495.0  143.0  325.0  \n",
       "1   23.0  457.0   61.0  409.0  \n",
       "2   37.0  601.0   13.0  470.0  \n",
       "3   27.0  602.0  162.0  385.0  \n",
       "4   60.0  586.0  174.0  325.0  \n",
       "\n",
       "[5 rows x 21 columns]"
      ]
     },
     "execution_count": 21,
     "metadata": {},
     "output_type": "execute_result"
    }
   ],
   "source": [
    "train_df = mnv2_train.copy()\n",
    "irv2_train.drop(['image_name'], axis=1, inplace=True)\n",
    "dn121_train.drop(['image_name'], axis=1, inplace=True)\n",
    "unet_train.drop(['image_name'], axis=1, inplace=True)\n",
    "cols = unet_train.columns\n",
    "unet_train[cols] = unet_train[cols].astype('float')\n",
    "true_train.drop(['image_name'], axis=1, inplace=True)\n",
    "cols = true_train.columns\n",
    "true_train[cols] = true_train[cols].astype('float')\n",
    "\n",
    "train_df = pd.concat([train_df, irv2_train, dn121_train, unet_train, true_train], axis=1, sort=False)\n",
    "train_df.head()"
   ]
  },
  {
   "cell_type": "code",
   "execution_count": 22,
   "metadata": {
    "colab": {},
    "colab_type": "code",
    "id": "23c7NHu3lhHk"
   },
   "outputs": [
    {
     "data": {
      "text/html": [
       "<div>\n",
       "<style scoped>\n",
       "    .dataframe tbody tr th:only-of-type {\n",
       "        vertical-align: middle;\n",
       "    }\n",
       "\n",
       "    .dataframe tbody tr th {\n",
       "        vertical-align: top;\n",
       "    }\n",
       "\n",
       "    .dataframe thead th {\n",
       "        text-align: right;\n",
       "    }\n",
       "</style>\n",
       "<table border=\"1\" class=\"dataframe\">\n",
       "  <thead>\n",
       "    <tr style=\"text-align: right;\">\n",
       "      <th></th>\n",
       "      <th>image_name</th>\n",
       "      <th>x1</th>\n",
       "      <th>x2</th>\n",
       "      <th>y1</th>\n",
       "      <th>y2</th>\n",
       "      <th>x1</th>\n",
       "      <th>x2</th>\n",
       "      <th>y1</th>\n",
       "      <th>y2</th>\n",
       "      <th>x1</th>\n",
       "      <th>x2</th>\n",
       "      <th>y1</th>\n",
       "      <th>y2</th>\n",
       "      <th>x1</th>\n",
       "      <th>x2</th>\n",
       "      <th>y1</th>\n",
       "      <th>y2</th>\n",
       "    </tr>\n",
       "  </thead>\n",
       "  <tbody>\n",
       "    <tr>\n",
       "      <th>0</th>\n",
       "      <td>1474723840903DSC08089.png</td>\n",
       "      <td>232.980238</td>\n",
       "      <td>445.972334</td>\n",
       "      <td>87.559384</td>\n",
       "      <td>406.391929</td>\n",
       "      <td>235.094978</td>\n",
       "      <td>440.136588</td>\n",
       "      <td>85.0</td>\n",
       "      <td>407.264972</td>\n",
       "      <td>235.939549</td>\n",
       "      <td>442.816642</td>\n",
       "      <td>88.411151</td>\n",
       "      <td>405.971048</td>\n",
       "      <td>244.0</td>\n",
       "      <td>440.0</td>\n",
       "      <td>95.0</td>\n",
       "      <td>405.0</td>\n",
       "    </tr>\n",
       "    <tr>\n",
       "      <th>1</th>\n",
       "      <td>1473231475010DeeplearnS11276.png</td>\n",
       "      <td>79.201922</td>\n",
       "      <td>575.766427</td>\n",
       "      <td>139.864802</td>\n",
       "      <td>353.357588</td>\n",
       "      <td>77.301879</td>\n",
       "      <td>571.115045</td>\n",
       "      <td>136.0</td>\n",
       "      <td>349.207898</td>\n",
       "      <td>80.780334</td>\n",
       "      <td>571.631513</td>\n",
       "      <td>140.321029</td>\n",
       "      <td>346.283242</td>\n",
       "      <td>88.0</td>\n",
       "      <td>567.0</td>\n",
       "      <td>153.0</td>\n",
       "      <td>348.0</td>\n",
       "    </tr>\n",
       "    <tr>\n",
       "      <th>2</th>\n",
       "      <td>JPEG_20161205_135307_1000155917326.png</td>\n",
       "      <td>140.767855</td>\n",
       "      <td>499.899641</td>\n",
       "      <td>54.468907</td>\n",
       "      <td>439.924066</td>\n",
       "      <td>143.755716</td>\n",
       "      <td>495.905231</td>\n",
       "      <td>51.0</td>\n",
       "      <td>434.858856</td>\n",
       "      <td>139.760808</td>\n",
       "      <td>495.100098</td>\n",
       "      <td>51.288851</td>\n",
       "      <td>432.249690</td>\n",
       "      <td>158.0</td>\n",
       "      <td>491.0</td>\n",
       "      <td>56.0</td>\n",
       "      <td>435.0</td>\n",
       "    </tr>\n",
       "    <tr>\n",
       "      <th>3</th>\n",
       "      <td>JPEG_20160711_123440_1000518778437.png</td>\n",
       "      <td>221.316071</td>\n",
       "      <td>461.600516</td>\n",
       "      <td>88.184885</td>\n",
       "      <td>420.183040</td>\n",
       "      <td>212.827932</td>\n",
       "      <td>464.292923</td>\n",
       "      <td>92.0</td>\n",
       "      <td>415.366831</td>\n",
       "      <td>210.035313</td>\n",
       "      <td>468.081621</td>\n",
       "      <td>92.802388</td>\n",
       "      <td>420.413164</td>\n",
       "      <td>262.0</td>\n",
       "      <td>432.0</td>\n",
       "      <td>131.0</td>\n",
       "      <td>402.0</td>\n",
       "    </tr>\n",
       "    <tr>\n",
       "      <th>4</th>\n",
       "      <td>JPEG_20160803_115329_100034020722.png</td>\n",
       "      <td>124.407174</td>\n",
       "      <td>501.422250</td>\n",
       "      <td>42.546689</td>\n",
       "      <td>441.118862</td>\n",
       "      <td>140.062954</td>\n",
       "      <td>503.236178</td>\n",
       "      <td>42.0</td>\n",
       "      <td>429.725828</td>\n",
       "      <td>40.428072</td>\n",
       "      <td>477.029550</td>\n",
       "      <td>44.277841</td>\n",
       "      <td>435.884498</td>\n",
       "      <td>150.0</td>\n",
       "      <td>496.0</td>\n",
       "      <td>43.0</td>\n",
       "      <td>430.0</td>\n",
       "    </tr>\n",
       "  </tbody>\n",
       "</table>\n",
       "</div>"
      ],
      "text/plain": [
       "                               image_name          x1          x2          y1  \\\n",
       "0               1474723840903DSC08089.png  232.980238  445.972334   87.559384   \n",
       "1        1473231475010DeeplearnS11276.png   79.201922  575.766427  139.864802   \n",
       "2  JPEG_20161205_135307_1000155917326.png  140.767855  499.899641   54.468907   \n",
       "3  JPEG_20160711_123440_1000518778437.png  221.316071  461.600516   88.184885   \n",
       "4   JPEG_20160803_115329_100034020722.png  124.407174  501.422250   42.546689   \n",
       "\n",
       "           y2          x1          x2     y1          y2          x1  \\\n",
       "0  406.391929  235.094978  440.136588   85.0  407.264972  235.939549   \n",
       "1  353.357588   77.301879  571.115045  136.0  349.207898   80.780334   \n",
       "2  439.924066  143.755716  495.905231   51.0  434.858856  139.760808   \n",
       "3  420.183040  212.827932  464.292923   92.0  415.366831  210.035313   \n",
       "4  441.118862  140.062954  503.236178   42.0  429.725828   40.428072   \n",
       "\n",
       "           x2          y1          y2     x1     x2     y1     y2  \n",
       "0  442.816642   88.411151  405.971048  244.0  440.0   95.0  405.0  \n",
       "1  571.631513  140.321029  346.283242   88.0  567.0  153.0  348.0  \n",
       "2  495.100098   51.288851  432.249690  158.0  491.0   56.0  435.0  \n",
       "3  468.081621   92.802388  420.413164  262.0  432.0  131.0  402.0  \n",
       "4  477.029550   44.277841  435.884498  150.0  496.0   43.0  430.0  "
      ]
     },
     "execution_count": 22,
     "metadata": {},
     "output_type": "execute_result"
    }
   ],
   "source": [
    "prediction_df = mnv2_prediction.copy()\n",
    "irv2_prediction.drop('image_name', axis=1, inplace=True)\n",
    "dn121_prediction.drop('image_name', axis=1, inplace=True)\n",
    "unet_prediction.drop('image_name', axis=1, inplace=True)\n",
    "unet_prediction[cols] = unet_prediction[cols].astype('float')\n",
    "\n",
    "prediction_df = pd.concat([prediction_df, irv2_prediction, dn121_prediction, unet_prediction], axis=1, sort=False)\n",
    "prediction_df.head()"
   ]
  },
  {
   "cell_type": "markdown",
   "metadata": {
    "colab_type": "text",
    "id": "opYg1Urgo1aK"
   },
   "source": [
    "Now building the ensemble model."
   ]
  },
  {
   "cell_type": "code",
   "execution_count": 23,
   "metadata": {
    "colab": {},
    "colab_type": "code",
    "id": "g_RoT6P-o7fs"
   },
   "outputs": [
    {
     "name": "stdout",
     "output_type": "stream",
     "text": [
      "__________________________________________________________________________________________________\n",
      "Layer (type)                    Output Shape         Param #     Connected to                     \n",
      "==================================================================================================\n",
      "input_17 (InputLayer)           (None, 1)            0                                            \n",
      "__________________________________________________________________________________________________\n",
      "input_21 (InputLayer)           (None, 1)            0                                            \n",
      "__________________________________________________________________________________________________\n",
      "input_25 (InputLayer)           (None, 1)            0                                            \n",
      "__________________________________________________________________________________________________\n",
      "input_29 (InputLayer)           (None, 1)            0                                            \n",
      "__________________________________________________________________________________________________\n",
      "input_18 (InputLayer)           (None, 1)            0                                            \n",
      "__________________________________________________________________________________________________\n",
      "input_22 (InputLayer)           (None, 1)            0                                            \n",
      "__________________________________________________________________________________________________\n",
      "input_26 (InputLayer)           (None, 1)            0                                            \n",
      "__________________________________________________________________________________________________\n",
      "input_30 (InputLayer)           (None, 1)            0                                            \n",
      "__________________________________________________________________________________________________\n",
      "input_19 (InputLayer)           (None, 1)            0                                            \n",
      "__________________________________________________________________________________________________\n",
      "input_23 (InputLayer)           (None, 1)            0                                            \n",
      "__________________________________________________________________________________________________\n",
      "input_27 (InputLayer)           (None, 1)            0                                            \n",
      "__________________________________________________________________________________________________\n",
      "input_31 (InputLayer)           (None, 1)            0                                            \n",
      "__________________________________________________________________________________________________\n",
      "input_20 (InputLayer)           (None, 1)            0                                            \n",
      "__________________________________________________________________________________________________\n",
      "input_24 (InputLayer)           (None, 1)            0                                            \n",
      "__________________________________________________________________________________________________\n",
      "input_28 (InputLayer)           (None, 1)            0                                            \n",
      "__________________________________________________________________________________________________\n",
      "input_32 (InputLayer)           (None, 1)            0                                            \n",
      "__________________________________________________________________________________________________\n",
      "concatenate_5 (Concatenate)     (None, 4)            0           input_17[0][0]                   \n",
      "                                                                 input_21[0][0]                   \n",
      "                                                                 input_25[0][0]                   \n",
      "                                                                 input_29[0][0]                   \n",
      "__________________________________________________________________________________________________\n",
      "concatenate_6 (Concatenate)     (None, 4)            0           input_18[0][0]                   \n",
      "                                                                 input_22[0][0]                   \n",
      "                                                                 input_26[0][0]                   \n",
      "                                                                 input_30[0][0]                   \n",
      "__________________________________________________________________________________________________\n",
      "concatenate_7 (Concatenate)     (None, 4)            0           input_19[0][0]                   \n",
      "                                                                 input_23[0][0]                   \n",
      "                                                                 input_27[0][0]                   \n",
      "                                                                 input_31[0][0]                   \n",
      "__________________________________________________________________________________________________\n",
      "concatenate_8 (Concatenate)     (None, 4)            0           input_20[0][0]                   \n",
      "                                                                 input_24[0][0]                   \n",
      "                                                                 input_28[0][0]                   \n",
      "                                                                 input_32[0][0]                   \n",
      "__________________________________________________________________________________________________\n",
      "dense_5 (Dense)                 (None, 1)            5           concatenate_5[0][0]              \n",
      "__________________________________________________________________________________________________\n",
      "dense_6 (Dense)                 (None, 1)            5           concatenate_6[0][0]              \n",
      "__________________________________________________________________________________________________\n",
      "dense_7 (Dense)                 (None, 1)            5           concatenate_7[0][0]              \n",
      "__________________________________________________________________________________________________\n",
      "dense_8 (Dense)                 (None, 1)            5           concatenate_8[0][0]              \n",
      "==================================================================================================\n",
      "Total params: 20\n",
      "Trainable params: 20\n",
      "Non-trainable params: 0\n",
      "__________________________________________________________________________________________________\n"
     ]
    }
   ],
   "source": [
    "\n",
    "x1a = Input(shape=(1,)) \n",
    "x2a = Input(shape=(1,))\n",
    "y1a = Input(shape=(1,))\n",
    "y2a = Input(shape=(1,))\n",
    "x1b = Input(shape=(1,))\n",
    "x2b = Input(shape=(1,))\n",
    "y1b = Input(shape=(1,))\n",
    "y2b = Input(shape=(1,))\n",
    "x1c = Input(shape=(1,))\n",
    "x2c = Input(shape=(1,))\n",
    "y1c = Input(shape=(1,))\n",
    "y2c = Input(shape=(1,))\n",
    "x1d = Input(shape=(1,))\n",
    "x2d = Input(shape=(1,))\n",
    "y1d = Input(shape=(1,))\n",
    "y2d = Input(shape=(1,))\n",
    "\n",
    "x1 = Concatenate()([x1a, x1b, x1c, x1d])\n",
    "x2 = Concatenate()([x2a, x2b, x2c, x2d])\n",
    "y1 = Concatenate()([y1a, y1b, y1c, y1d])\n",
    "y2 = Concatenate()([y2a, y2b, y2c, y2d])\n",
    "\n",
    "x1 = Dense(1)(x1)\n",
    "x2 = Dense(1)(x2)\n",
    "y1 = Dense(1)(y1)\n",
    "y2 = Dense(1)(y2)\n",
    "\n",
    "ensemble = Model(inputs=[x1a, x2a, y1a, y2a, x1b, x2b, y1b, y2b, x1c, x2c, y1c, y2c, x1d, x2d, y1d, y2d], outputs=[x1,x2,y1,y2])\n",
    "\n",
    "ensemble.summary()\n",
    "\n",
    "ensemble.compile(loss=\"mean_absolute_error\", optimizer=\"adam\")\n",
    "\n"
   ]
  },
  {
   "cell_type": "markdown",
   "metadata": {
    "colab_type": "text",
    "id": "FHuLGxxRp-7N"
   },
   "source": [
    "Now let's go ahead and compile our model and then train it."
   ]
  },
  {
   "cell_type": "code",
   "execution_count": 35,
   "metadata": {
    "colab": {},
    "colab_type": "code",
    "id": "or33rahbqGob"
   },
   "outputs": [
    {
     "name": "stdout",
     "output_type": "stream",
     "text": [
      "Epoch 1/100\n",
      "14000/14000 [==============================] - 4s 268us/step - loss: 16.8368 - dense_5_loss: 3.9484 - dense_6_loss: 4.7565 - dense_7_loss: 3.7679 - dense_8_loss: 4.3640\n",
      "Epoch 2/100\n",
      "14000/14000 [==============================] - 3s 225us/step - loss: 16.8026 - dense_5_loss: 3.9542 - dense_6_loss: 4.7709 - dense_7_loss: 3.7593 - dense_8_loss: 4.3183\n",
      "Epoch 3/100\n",
      "14000/14000 [==============================] - 3s 229us/step - loss: 16.7930 - dense_5_loss: 3.9515 - dense_6_loss: 4.7656 - dense_7_loss: 3.7569 - dense_8_loss: 4.3190\n",
      "Epoch 4/100\n",
      "14000/14000 [==============================] - 3s 230us/step - loss: 16.7856 - dense_5_loss: 3.9360 - dense_6_loss: 4.7627 - dense_7_loss: 3.7575 - dense_8_loss: 4.3294\n",
      "Epoch 5/100\n",
      "14000/14000 [==============================] - 3s 233us/step - loss: 16.7700 - dense_5_loss: 3.9381 - dense_6_loss: 4.7647 - dense_7_loss: 3.7507 - dense_8_loss: 4.3165\n",
      "Epoch 6/100\n",
      "14000/14000 [==============================] - 3s 228us/step - loss: 16.7843 - dense_5_loss: 3.9435 - dense_6_loss: 4.7691 - dense_7_loss: 3.7513 - dense_8_loss: 4.32040s - loss: 16.7800 - dense_5_loss: 3.9537 - dense_6_loss: 4.7142 - dense\n"
     ]
    },
    {
     "data": {
      "text/plain": [
       "<keras.callbacks.History at 0x7f5f787116a0>"
      ]
     },
     "execution_count": 35,
     "metadata": {},
     "output_type": "execute_result"
    }
   ],
   "source": [
    "ensemble.compile(loss=\"mean_absolute_error\", optimizer=\"adam\")\n",
    "\n",
    "stop = EarlyStopping(monitor=\"loss\", patience=3, mode=\"min\")\n",
    "\n",
    "ensemble.fit(np.transpose(train_df.iloc[:,1:17].values).tolist(), np.transpose(train_df.iloc[:,17:].values).tolist(), epochs=100, callbacks=[stop])"
   ]
  },
  {
   "cell_type": "markdown",
   "metadata": {
    "colab_type": "text",
    "id": "UY9R5gnxqe69"
   },
   "source": [
    "Finally save the weights for our ensemble."
   ]
  },
  {
   "cell_type": "code",
   "execution_count": 25,
   "metadata": {
    "colab": {},
    "colab_type": "code",
    "id": "_RM29ZOSqfXB"
   },
   "outputs": [],
   "source": [
    "## Since the models will take a huge amount of time to train, you can download the trained weights from \n",
    "## this Google Drive folder into the directory\n",
    "## https://drive.google.com/drive/folders/1rOVkxqHaCKjamji7c3XfdomvMbqksgU6?usp=sharing\n",
    "\n",
    "ensemble.save_weights(\"ensemble_weights.h5\", overwrite=True)"
   ]
  },
  {
   "cell_type": "markdown",
   "metadata": {
    "colab_type": "text",
    "id": "wmqby7EMrEjo"
   },
   "source": [
    "Making the predictions on the prediction dataframe."
   ]
  },
  {
   "cell_type": "code",
   "execution_count": 36,
   "metadata": {
    "colab": {},
    "colab_type": "code",
    "id": "0ijIVRsprErZ"
   },
   "outputs": [
    {
     "data": {
      "text/html": [
       "<div>\n",
       "<style scoped>\n",
       "    .dataframe tbody tr th:only-of-type {\n",
       "        vertical-align: middle;\n",
       "    }\n",
       "\n",
       "    .dataframe tbody tr th {\n",
       "        vertical-align: top;\n",
       "    }\n",
       "\n",
       "    .dataframe thead th {\n",
       "        text-align: right;\n",
       "    }\n",
       "</style>\n",
       "<table border=\"1\" class=\"dataframe\">\n",
       "  <thead>\n",
       "    <tr style=\"text-align: right;\">\n",
       "      <th></th>\n",
       "      <th>0</th>\n",
       "      <th>1</th>\n",
       "      <th>2</th>\n",
       "      <th>3</th>\n",
       "    </tr>\n",
       "  </thead>\n",
       "  <tbody>\n",
       "    <tr>\n",
       "      <th>0</th>\n",
       "      <td>[235.63202]</td>\n",
       "      <td>[441.83658]</td>\n",
       "      <td>[87.590195]</td>\n",
       "      <td>[406.0967]</td>\n",
       "    </tr>\n",
       "    <tr>\n",
       "      <th>1</th>\n",
       "      <td>[79.51423]</td>\n",
       "      <td>[571.82227]</td>\n",
       "      <td>[139.54645]</td>\n",
       "      <td>[347.32394]</td>\n",
       "    </tr>\n",
       "    <tr>\n",
       "      <th>2</th>\n",
       "      <td>[143.05956]</td>\n",
       "      <td>[496.3925]</td>\n",
       "      <td>[52.99826]</td>\n",
       "      <td>[432.98874]</td>\n",
       "    </tr>\n",
       "    <tr>\n",
       "      <th>3</th>\n",
       "      <td>[215.46329]</td>\n",
       "      <td>[463.141]</td>\n",
       "      <td>[91.70619]</td>\n",
       "      <td>[417.69034]</td>\n",
       "    </tr>\n",
       "    <tr>\n",
       "      <th>4</th>\n",
       "      <td>[115.71315]</td>\n",
       "      <td>[498.44455]</td>\n",
       "      <td>[43.3562]</td>\n",
       "      <td>[432.7257]</td>\n",
       "    </tr>\n",
       "  </tbody>\n",
       "</table>\n",
       "</div>"
      ],
      "text/plain": [
       "             0            1            2            3\n",
       "0  [235.63202]  [441.83658]  [87.590195]   [406.0967]\n",
       "1   [79.51423]  [571.82227]  [139.54645]  [347.32394]\n",
       "2  [143.05956]   [496.3925]   [52.99826]  [432.98874]\n",
       "3  [215.46329]    [463.141]   [91.70619]  [417.69034]\n",
       "4  [115.71315]  [498.44455]    [43.3562]   [432.7257]"
      ]
     },
     "execution_count": 36,
     "metadata": {},
     "output_type": "execute_result"
    }
   ],
   "source": [
    "preds = pd.DataFrame.from_records(ensemble.predict(np.transpose(prediction_df.iloc[:,1:17].values).tolist()))\n",
    "preds = preds.T\n",
    "preds.head()"
   ]
  },
  {
   "cell_type": "code",
   "execution_count": 37,
   "metadata": {
    "colab": {},
    "colab_type": "code",
    "id": "LIb7bo7Nrwgi"
   },
   "outputs": [
    {
     "data": {
      "text/html": [
       "<div>\n",
       "<style scoped>\n",
       "    .dataframe tbody tr th:only-of-type {\n",
       "        vertical-align: middle;\n",
       "    }\n",
       "\n",
       "    .dataframe tbody tr th {\n",
       "        vertical-align: top;\n",
       "    }\n",
       "\n",
       "    .dataframe thead th {\n",
       "        text-align: right;\n",
       "    }\n",
       "</style>\n",
       "<table border=\"1\" class=\"dataframe\">\n",
       "  <thead>\n",
       "    <tr style=\"text-align: right;\">\n",
       "      <th></th>\n",
       "      <th>image_name</th>\n",
       "      <th>x1</th>\n",
       "      <th>x2</th>\n",
       "      <th>y1</th>\n",
       "      <th>y2</th>\n",
       "    </tr>\n",
       "  </thead>\n",
       "  <tbody>\n",
       "    <tr>\n",
       "      <th>0</th>\n",
       "      <td>1474723840903DSC08089.png</td>\n",
       "      <td>NaN</td>\n",
       "      <td>NaN</td>\n",
       "      <td>NaN</td>\n",
       "      <td>NaN</td>\n",
       "    </tr>\n",
       "    <tr>\n",
       "      <th>1</th>\n",
       "      <td>1473231475010DeeplearnS11276.png</td>\n",
       "      <td>NaN</td>\n",
       "      <td>NaN</td>\n",
       "      <td>NaN</td>\n",
       "      <td>NaN</td>\n",
       "    </tr>\n",
       "    <tr>\n",
       "      <th>2</th>\n",
       "      <td>JPEG_20161205_135307_1000155917326.png</td>\n",
       "      <td>NaN</td>\n",
       "      <td>NaN</td>\n",
       "      <td>NaN</td>\n",
       "      <td>NaN</td>\n",
       "    </tr>\n",
       "    <tr>\n",
       "      <th>3</th>\n",
       "      <td>JPEG_20160711_123440_1000518778437.png</td>\n",
       "      <td>NaN</td>\n",
       "      <td>NaN</td>\n",
       "      <td>NaN</td>\n",
       "      <td>NaN</td>\n",
       "    </tr>\n",
       "    <tr>\n",
       "      <th>4</th>\n",
       "      <td>JPEG_20160803_115329_100034020722.png</td>\n",
       "      <td>NaN</td>\n",
       "      <td>NaN</td>\n",
       "      <td>NaN</td>\n",
       "      <td>NaN</td>\n",
       "    </tr>\n",
       "  </tbody>\n",
       "</table>\n",
       "</div>"
      ],
      "text/plain": [
       "                               image_name  x1  x2  y1  y2\n",
       "0               1474723840903DSC08089.png NaN NaN NaN NaN\n",
       "1        1473231475010DeeplearnS11276.png NaN NaN NaN NaN\n",
       "2  JPEG_20161205_135307_1000155917326.png NaN NaN NaN NaN\n",
       "3  JPEG_20160711_123440_1000518778437.png NaN NaN NaN NaN\n",
       "4   JPEG_20160803_115329_100034020722.png NaN NaN NaN NaN"
      ]
     },
     "execution_count": 37,
     "metadata": {},
     "output_type": "execute_result"
    }
   ],
   "source": [
    "test = pd.read_csv(\"test.csv\")\n",
    "test.head()"
   ]
  },
  {
   "cell_type": "code",
   "execution_count": 38,
   "metadata": {
    "colab": {},
    "colab_type": "code",
    "id": "b2rgjfn-rlId"
   },
   "outputs": [
    {
     "data": {
      "text/html": [
       "<div>\n",
       "<style scoped>\n",
       "    .dataframe tbody tr th:only-of-type {\n",
       "        vertical-align: middle;\n",
       "    }\n",
       "\n",
       "    .dataframe tbody tr th {\n",
       "        vertical-align: top;\n",
       "    }\n",
       "\n",
       "    .dataframe thead th {\n",
       "        text-align: right;\n",
       "    }\n",
       "</style>\n",
       "<table border=\"1\" class=\"dataframe\">\n",
       "  <thead>\n",
       "    <tr style=\"text-align: right;\">\n",
       "      <th></th>\n",
       "      <th>image_name</th>\n",
       "      <th>x1</th>\n",
       "      <th>x2</th>\n",
       "      <th>y1</th>\n",
       "      <th>y2</th>\n",
       "    </tr>\n",
       "  </thead>\n",
       "  <tbody>\n",
       "    <tr>\n",
       "      <th>0</th>\n",
       "      <td>1474723840903DSC08089.png</td>\n",
       "      <td>235.632019</td>\n",
       "      <td>441.836578</td>\n",
       "      <td>87.590195</td>\n",
       "      <td>406.096710</td>\n",
       "    </tr>\n",
       "    <tr>\n",
       "      <th>1</th>\n",
       "      <td>1473231475010DeeplearnS11276.png</td>\n",
       "      <td>79.514229</td>\n",
       "      <td>571.822266</td>\n",
       "      <td>139.546448</td>\n",
       "      <td>347.323944</td>\n",
       "    </tr>\n",
       "    <tr>\n",
       "      <th>2</th>\n",
       "      <td>JPEG_20161205_135307_1000155917326.png</td>\n",
       "      <td>143.059555</td>\n",
       "      <td>496.392487</td>\n",
       "      <td>52.998260</td>\n",
       "      <td>432.988739</td>\n",
       "    </tr>\n",
       "    <tr>\n",
       "      <th>3</th>\n",
       "      <td>JPEG_20160711_123440_1000518778437.png</td>\n",
       "      <td>215.463287</td>\n",
       "      <td>463.140991</td>\n",
       "      <td>91.706192</td>\n",
       "      <td>417.690338</td>\n",
       "    </tr>\n",
       "    <tr>\n",
       "      <th>4</th>\n",
       "      <td>JPEG_20160803_115329_100034020722.png</td>\n",
       "      <td>115.713150</td>\n",
       "      <td>498.444550</td>\n",
       "      <td>43.356201</td>\n",
       "      <td>432.725708</td>\n",
       "    </tr>\n",
       "  </tbody>\n",
       "</table>\n",
       "</div>"
      ],
      "text/plain": [
       "                               image_name          x1          x2          y1  \\\n",
       "0               1474723840903DSC08089.png  235.632019  441.836578   87.590195   \n",
       "1        1473231475010DeeplearnS11276.png   79.514229  571.822266  139.546448   \n",
       "2  JPEG_20161205_135307_1000155917326.png  143.059555  496.392487   52.998260   \n",
       "3  JPEG_20160711_123440_1000518778437.png  215.463287  463.140991   91.706192   \n",
       "4   JPEG_20160803_115329_100034020722.png  115.713150  498.444550   43.356201   \n",
       "\n",
       "           y2  \n",
       "0  406.096710  \n",
       "1  347.323944  \n",
       "2  432.988739  \n",
       "3  417.690338  \n",
       "4  432.725708  "
      ]
     },
     "execution_count": 38,
     "metadata": {},
     "output_type": "execute_result"
    }
   ],
   "source": [
    "for index, row in preds.iterrows():\n",
    "\n",
    "    test.iloc[index,1] = np.asscalar(row[0])\n",
    "    test.iloc[index,2] = np.asscalar(row[1])\n",
    "    test.iloc[index,3] = np.asscalar(row[2])\n",
    "    test.iloc[index,4] = np.asscalar(row[3])\n",
    "\n",
    "test.head()"
   ]
  },
  {
   "cell_type": "code",
   "execution_count": 39,
   "metadata": {
    "colab": {},
    "colab_type": "code",
    "id": "obNRCwQ3sDot"
   },
   "outputs": [],
   "source": [
    "test.to_csv('ensemble-prediction.csv', index=False)"
   ]
  },
  {
   "cell_type": "markdown",
   "metadata": {
    "colab_type": "text",
    "id": "Rr0mEGmqvlyz"
   },
   "source": [
    "Upon uploading the predictions online to the competition, we achieved a Mean IoU score of 0.92+ with the ensemble model. Details and results on various models are discussed below."
   ]
  },
  {
   "cell_type": "markdown",
   "metadata": {
    "colab_type": "text",
    "id": "3pH7gztPwD9n"
   },
   "source": [
    "# Results\n",
    "\n",
    "Though we showed only three different architectures to achieve better predictions, we tested on a large number of models and used a number of techniques. We will here discuss our inferences throughout the challenge and why we chose the models we did.\n",
    "\n",
    "Let's look at some of our predictions first."
   ]
  },
  {
   "cell_type": "code",
   "execution_count": 11,
   "metadata": {},
   "outputs": [
    {
     "data": {
      "image/png": "[encoded data removed]",
      "text/plain": [
       "<Figure size 432x288 with 1 Axes>"
      ]
     },
     "metadata": {},
     "output_type": "display_data"
    },
    {
     "data": {
      "image/png": "[encoded data removed]",
      "text/plain": [
       "<Figure size 432x288 with 1 Axes>"
      ]
     },
     "metadata": {},
     "output_type": "display_data"
    }
   ],
   "source": [
    "preds = pd.read_csv('ensemble-prediction.csv')\n",
    "\n",
    "s = np.random.randint(12000)\n",
    "\n",
    "for i in range(s, s+2):\n",
    "    tr_row = preds.loc[i]\n",
    "    img = cv2.imread(DATA_DIR + tr_row['image_name'])\n",
    "    img = cv2.cvtColor(img, cv2.COLOR_BGR2RGB)\n",
    "    cv2.rectangle(img, (int(tr_row['x1']), int(tr_row['y1'])), (int(tr_row['x2']), int(tr_row['y2'])), (0,0,255), 2)\n",
    "    plt.axis('off')\n",
    "    plt.imshow(img)\n",
    "    plt.show()"
   ]
  },
  {
   "cell_type": "markdown",
   "metadata": {
    "colab_type": "text",
    "id": "QaqXHB4fxwnY"
   },
   "source": [
    "## Current Scores\n",
    "\n",
    "The following tables shows the scores achieved by the above discussed models on the leaderboard.\n",
    "```\n",
    "+-------------------+----------------+\n",
    "| Model             | Mean IoU Score |\n",
    "+-------------------+----------------+\n",
    "| MobileNetV2       | 0.9246         |\n",
    "+-------------------+----------------+\n",
    "| DenseNet121       | 0.9225         |\n",
    "+-------------------+----------------+\n",
    "| InceptionResnetV2 | 0.9262         |\n",
    "+-------------------+----------------+\n",
    "| U-Net             | 0.8803         |\n",
    "+-------------------+----------------+\n",
    "| Ensemble          | 0.9306         |\n",
    "+-------------------+----------------+\n",
    "```\n",
    "\n",
    "## Discussion\n",
    "\n",
    "In this section we discuss why we chose the models discussed above and what alternative approaches we tried.\n",
    "\n",
    "### Imagenet Architectures\n",
    "\n",
    "Since the task involved localization of just single object, the current imagenet architectures becomes a normal choice because of their accuracy and ease of implementation. So we decided to modify the top layers of these architectures to get regression output for the coordinates of bounding box.\n",
    "\n",
    "We decided to use two different models, one with high depth and one with low depth to test what we obtain.\n",
    "\n",
    "Since multiple competitions were won by both MobileNetV2 and InceptionResnetV2, they became our obvious choice.\n",
    "\n",
    "**Top Layer:** We tried multiple combinations of top layer including Pooling, BatchNormalization and Fully-Connected Layers but found that the architectures worked best how they were designed and adding Convolutional Layers only helped. A possible reason we found for such outcome is also mentioned in this paper ( arXiv:1412.6806 ).\n",
    "\n",
    "As expected both models performed well on the data with augmentations, with InceptionResnetV2 performing marginally better than MobileNetV2 because of the depth of the network.\n",
    "\n",
    "We later added DenseNet121 to improve ensemble predictions as it is comparable in depth with MobileNetV2.\n",
    "\n",
    "### U-Net\n",
    "\n",
    "Though this was an object localization challenge but segmentation has had a lot of research and lately pretty good models have emerged for the same.\n",
    "\n",
    "We wanted to test segmentation out as a side-model, thus we chose U-Net as our model. U-Net is particularly small but pretty effective, which is exactly what we wanted. Other image segmentation models such DeepLabV3+ would have performed better but the overall training time would be huge.\n",
    "\n",
    "We calculated the bounding box by determining the mask boundaries and then throwing out pixel values from the 640x480 matrix.\n",
    "\n",
    "Since we couldn't have used other pre built model for getting segmentation mask we used OpenCV and its advanced image operations to get a rough segmentation mask for the objects particularly effective where there was a good contrast in the background and the object. The method was ineffective against transparent/translucent objects and where there was a low contrast between the object and background.\n",
    "\n",
    "Though we didn't achieve very high Mean IoU score the model gave pretty decent performance given the masks were roughly drawn and we noticed that it performed better than the imagenet models on high contrast images.\n",
    "\n",
    "Thus we decided to include the model in our ensemble to get a better score overall.\n",
    "\n",
    "### Other Techniques\n",
    "\n",
    "Apart from the two already disccused we tried multiple architectures such as YOLOv2, RetinaNet and AttentionNet. We weren't really inclined towards region proposal networks as the task just included localization of the main single object.\n",
    "\n",
    "These models plateau around ~0.86 Mean IoU score, and didn't help much.\n",
    "\n",
    "AttentionNet did achieve a good score of ~0.90 combined with our MobileNetV2 as a base model, but we couldn't test it more due to time limitations.\n",
    "\n",
    "## Future Scope and Conclusions\n",
    "\n",
    "- Though the models achieved a good score, we felt that not all the images we correctly labeled for bounding boxes, especially images that objects with circular or not sharp edges. We felt if the dataset itself is improved, it will help attain a higher score.\n",
    "- More models and techniques still remain to be tested for the above task, such as Reinforcement Learning for finding the object and localizing it.\n",
    "- A bigger ensemble model, with on-the-go training could help improve predictions a lot.\n",
    "- We suggest using MobileNetV2 for achieving good scores since the model is quick and small, and takes a lot less time compared to any other model, with reasonably accurate predictions."
   ]
  },
  {
   "cell_type": "code",
   "execution_count": null,
   "metadata": {},
   "outputs": [],
   "source": []
  }
 ],
 "metadata": {
  "colab": {
   "collapsed_sections": [],
   "name": "Flipkart Run.ipynb",
   "provenance": [],
   "toc_visible": true,
   "version": "0.3.2"
  },
  "kernelspec": {
   "display_name": "Python 3",
   "language": "python",
   "name": "python3"
  },
  "language_info": {
   "codemirror_mode": {
    "name": "ipython",
    "version": 3
   },
   "file_extension": ".py",
   "mimetype": "text/x-python",
   "name": "python",
   "nbconvert_exporter": "python",
   "pygments_lexer": "ipython3",
   "version": "3.6.7"
  }
 },
 "nbformat": 4,
 "nbformat_minor": 1
}
