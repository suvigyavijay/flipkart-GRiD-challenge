{
 "cells": [
  {
   "cell_type": "code",
   "execution_count": 1,
   "metadata": {},
   "outputs": [],
   "source": [
    "DATA_DIR = 'images'"
   ]
  },
  {
   "cell_type": "code",
   "execution_count": 2,
   "metadata": {},
   "outputs": [],
   "source": [
    "import numpy as np\n",
    "import pandas as pd\n",
    "import os\n",
    "from PIL import Image\n",
    "\n",
    "IMAGE_SIZE = 224"
   ]
  },
  {
   "cell_type": "code",
   "execution_count": 3,
   "metadata": {},
   "outputs": [
    {
     "name": "stdout",
     "output_type": "stream",
     "text": [
      "Training Data Info: \n",
      "\n",
      "<class 'pandas.core.frame.DataFrame'>\n",
      "RangeIndex: 24000 entries, 0 to 23999\n",
      "Data columns (total 5 columns):\n",
      "image_name    24000 non-null object\n",
      "x1            24000 non-null int64\n",
      "x2            24000 non-null int64\n",
      "y1            24000 non-null int64\n",
      "y2            24000 non-null int64\n",
      "dtypes: int64(4), object(1)\n",
      "memory usage: 937.6+ KB\n",
      "None\n"
     ]
    },
    {
     "data": {
      "text/html": [
       "<div>\n",
       "<style scoped>\n",
       "    .dataframe tbody tr th:only-of-type {\n",
       "        vertical-align: middle;\n",
       "    }\n",
       "\n",
       "    .dataframe tbody tr th {\n",
       "        vertical-align: top;\n",
       "    }\n",
       "\n",
       "    .dataframe thead th {\n",
       "        text-align: right;\n",
       "    }\n",
       "</style>\n",
       "<table border=\"1\" class=\"dataframe\">\n",
       "  <thead>\n",
       "    <tr style=\"text-align: right;\">\n",
       "      <th></th>\n",
       "      <th>image_name</th>\n",
       "      <th>x1</th>\n",
       "      <th>x2</th>\n",
       "      <th>y1</th>\n",
       "      <th>y2</th>\n",
       "    </tr>\n",
       "  </thead>\n",
       "  <tbody>\n",
       "    <tr>\n",
       "      <th>0</th>\n",
       "      <td>JPEG_20160517_140621_1000651031832.png</td>\n",
       "      <td>78</td>\n",
       "      <td>446</td>\n",
       "      <td>83</td>\n",
       "      <td>422</td>\n",
       "    </tr>\n",
       "    <tr>\n",
       "      <th>1</th>\n",
       "      <td>1473231510890DeeplearnS11456.png</td>\n",
       "      <td>73</td>\n",
       "      <td>567</td>\n",
       "      <td>146</td>\n",
       "      <td>351</td>\n",
       "    </tr>\n",
       "    <tr>\n",
       "      <th>2</th>\n",
       "      <td>1476881557883Untitled1.png</td>\n",
       "      <td>13</td>\n",
       "      <td>561</td>\n",
       "      <td>124</td>\n",
       "      <td>362</td>\n",
       "    </tr>\n",
       "    <tr>\n",
       "      <th>3</th>\n",
       "      <td>1474264827890cobalt-beyond-the-sea-maxi-dress3...</td>\n",
       "      <td>0</td>\n",
       "      <td>640</td>\n",
       "      <td>140</td>\n",
       "      <td>330</td>\n",
       "    </tr>\n",
       "    <tr>\n",
       "      <th>4</th>\n",
       "      <td>JPEG_20160711_113321_1000235741992.png</td>\n",
       "      <td>217</td>\n",
       "      <td>442</td>\n",
       "      <td>65</td>\n",
       "      <td>465</td>\n",
       "    </tr>\n",
       "  </tbody>\n",
       "</table>\n",
       "</div>"
      ],
      "text/plain": [
       "                                          image_name   x1   x2   y1   y2\n",
       "0             JPEG_20160517_140621_1000651031832.png   78  446   83  422\n",
       "1                   1473231510890DeeplearnS11456.png   73  567  146  351\n",
       "2                         1476881557883Untitled1.png   13  561  124  362\n",
       "3  1474264827890cobalt-beyond-the-sea-maxi-dress3...    0  640  140  330\n",
       "4             JPEG_20160711_113321_1000235741992.png  217  442   65  465"
      ]
     },
     "execution_count": 3,
     "metadata": {},
     "output_type": "execute_result"
    }
   ],
   "source": [
    "trainingData = pd.read_csv('training_set.csv')\n",
    "print('Training Data Info: \\n')\n",
    "print(trainingData.info())\n",
    "trainingData.head()"
   ]
  },
  {
   "cell_type": "code",
   "execution_count": 4,
   "metadata": {},
   "outputs": [],
   "source": [
    "im_data = np.zeros((len(trainingData), IMAGE_SIZE, IMAGE_SIZE, 3), dtype=np.int32)\n",
    "co_data = np.zeros((len(trainingData),4))"
   ]
  },
  {
   "cell_type": "code",
   "execution_count": 7,
   "metadata": {},
   "outputs": [
    {
     "name": "stdout",
     "output_type": "stream",
     "text": [
      "0\n",
      "1000\n",
      "2000\n",
      "3000\n",
      "4000\n",
      "5000\n",
      "6000\n",
      "7000\n",
      "8000\n",
      "9000\n",
      "10000\n",
      "11000\n",
      "12000\n",
      "13000\n",
      "14000\n",
      "15000\n",
      "16000\n",
      "17000\n",
      "18000\n",
      "19000\n",
      "20000\n",
      "21000\n",
      "22000\n",
      "23000\n"
     ]
    }
   ],
   "source": [
    "for index, row in trainingData.iterrows():\n",
    "    path = os.path.join(DATA_DIR, row['image_name'])\n",
    "    x1 = row['x1']\n",
    "    x2 = row['x2']\n",
    "    y1 = row['y1']\n",
    "    y2 = row['y2']\n",
    "\n",
    "    img = Image.open(path)\n",
    "    width, height = img.size\n",
    "\n",
    "    co_data[index, 0] = x1*IMAGE_SIZE / width\n",
    "    co_data[index, 1] = y1*IMAGE_SIZE / height\n",
    "    co_data[index, 2] = (x2 - x1)* IMAGE_SIZE / width\n",
    "    co_data[index, 3] = (y2 - y1)*IMAGE_SIZE / height \n",
    "    \n",
    "    img = img.resize((IMAGE_SIZE, IMAGE_SIZE))\n",
    "    img = img.convert('RGB')\n",
    "    pil_img = img\n",
    "    img = np.array(img, dtype=np.float32)\n",
    "    im_data[index] = img.copy()\n",
    "    pil_img.close()\n",
    "    \n",
    "    if index%1000==0:\n",
    "        print(index)\n"
   ]
  },
  {
   "cell_type": "code",
   "execution_count": 8,
   "metadata": {},
   "outputs": [],
   "source": [
    "import h5py\n",
    "\n",
    "with h5py.File('images.h5', 'w') as hf:\n",
    "    hf.create_dataset(\"images\",  data=im_data)\n",
    "    \n",
    "with h5py.File('coords.h5', 'w') as hf:\n",
    "    hf.create_dataset(\"coords\",  data=co_data)"
   ]
  },
  {
   "cell_type": "code",
   "execution_count": null,
   "metadata": {},
   "outputs": [],
   "source": []
  },
  {
   "cell_type": "code",
   "execution_count": null,
   "metadata": {},
   "outputs": [],
   "source": []
  }
 ],
 "metadata": {
  "kernelspec": {
   "display_name": "Python 3",
   "language": "python",
   "name": "python3"
  },
  "language_info": {
   "codemirror_mode": {
    "name": "ipython",
    "version": 3
   },
   "file_extension": ".py",
   "mimetype": "text/x-python",
   "name": "python",
   "nbconvert_exporter": "python",
   "pygments_lexer": "ipython3",
   "version": "3.5.3"
  }
 },
 "nbformat": 4,
 "nbformat_minor": 2
}
